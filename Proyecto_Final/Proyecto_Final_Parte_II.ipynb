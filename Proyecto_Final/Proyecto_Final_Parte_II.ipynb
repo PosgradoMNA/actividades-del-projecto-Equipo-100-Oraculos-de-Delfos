{
 "cells": [
  {
   "cell_type": "markdown",
   "metadata": {},
   "source": [
    "# Proyecto Final Parte II: Clasificación-ensambles"
   ]
  },
  {
   "cell_type": "markdown",
   "metadata": {},
   "source": [
    "![Logo Tec](img/LogoTec2.jpg)"
   ]
  },
  {
   "cell_type": "markdown",
   "metadata": {},
   "source": [
    "## Ciencia y analítica de datos (Gpo 10)\n",
    "### Alumnos: \n",
    "* Armando Bringas Corpus (A01200230), \n",
    "* Walter André Hauri Rosales (A01794237)\n",
    "\n",
    "### Profesores: \n",
    "* Dra. María de la Paz Rico Fernández\n",
    "* Mtra. Victoria Guerrero Orozco\n",
    "\n",
    "### Fecha: 18 de noviembre de 2022"
   ]
  },
  {
   "cell_type": "code",
   "execution_count": null,
   "metadata": {},
   "outputs": [],
   "source": [
    "try:\n",
    "    from jupyterthemes import jtplot\n",
    "    jtplot.style(theme='monokai', context ='notebook', ticks =True, grid =False) \n",
    "except ImportError as error:\n",
    "   print('Not running in a Jupyter Notebook')"
   ]
  },
  {
   "cell_type": "code",
   "execution_count": null,
   "metadata": {},
   "outputs": [],
   "source": [
    "import pandas as pd\n",
    "import numpy as np\n",
    "import matplotlib.pyplot as plt\n",
    "import seaborn as sns\n",
    "from sklearn.inspection import permutation_importance\n",
    "from sklearn.ensemble import RandomForestClassifier\n",
    "from sklearn.metrics import average_precision_score, classification_report, precision_recall_curve, PrecisionRecallDisplay, confusion_matrix, ConfusionMatrixDisplay\n",
    "from sklearn.model_selection import train_test_split, GridSearchCV, RepeatedStratifiedKFold\n",
    "from sklearn.pipeline import Pipeline\n",
    "from sklearn.preprocessing import label_binarize\n",
    "from sklearn.tree import DecisionTreeClassifier"
   ]
  },
  {
   "cell_type": "code",
   "execution_count": null,
   "metadata": {},
   "outputs": [],
   "source": [
    "data = pd.read_csv(\"data/Datos_de_calidad_del_agua_de_sitios_de_monitoreo_de_aguas_superficiales_2020_limpio.csv\", index_col=0)\n",
    "data.head()"
   ]
  },
  {
   "cell_type": "markdown",
   "metadata": {},
   "source": [
    "## Selecciona de variables independientes X y dependiente Y (semáforo)"
   ]
  },
  {
   "cell_type": "code",
   "execution_count": null,
   "metadata": {},
   "outputs": [],
   "source": [
    "y = data[\"SEMAFORO\"]\n",
    "X = data.drop(columns=[\"SEMAFORO\"])"
   ]
  },
  {
   "cell_type": "code",
   "execution_count": null,
   "metadata": {},
   "outputs": [],
   "source": [
    "X = X.select_dtypes([\"float64\"])"
   ]
  },
  {
   "cell_type": "markdown",
   "metadata": {},
   "source": [
    "Cambia a label encoding el semáforo, ej, de [\"clase 1\", \"clase 2\", \"clase 3\"] a [ 1,2,3]. Desde la limpieza de datos se implemento el \"label encoding\" en la variable de salida"
   ]
  },
  {
   "cell_type": "code",
   "execution_count": null,
   "metadata": {},
   "outputs": [],
   "source": [
    "colores_semaforo = {'Amarillo': 0, 'Rojo': 1, 'Verde': 2}\n",
    "y.unique() # Desde la limpieza se convritió a variable categórica"
   ]
  },
  {
   "cell_type": "markdown",
   "metadata": {},
   "source": [
    "###  Análisis general de las features importances a traves de decision trees o random forest"
   ]
  },
  {
   "cell_type": "code",
   "execution_count": null,
   "metadata": {},
   "outputs": [],
   "source": [
    "modelo_DT = DecisionTreeClassifier()\n",
    "clf = modelo_DT.fit(X, y)\n",
    "\n",
    "fig, ax = plt.subplots()\n",
    "plt.barh(X.columns, width = clf.feature_importances_)\n",
    "ax.set_title(\"Variables de mayor importancia usando Decision Trees\")\n",
    "fig.tight_layout()\n",
    "plt.show()"
   ]
  },
  {
   "cell_type": "code",
   "execution_count": null,
   "metadata": {},
   "outputs": [],
   "source": [
    "modelo_RF = RandomForestClassifier()\n",
    "clf = modelo_RF.fit(X, y)\n",
    "\n",
    "fig, ax = plt.subplots()\n",
    "plt.barh(X.columns, width = clf.feature_importances_);\n",
    "ax.set_title(\"Variables de mayor importancia usando Random Forest\")\n",
    "fig.tight_layout()\n",
    "plt.show()"
   ]
  },
  {
   "cell_type": "markdown",
   "metadata": {},
   "source": [
    "## Importancia de las Variables"
   ]
  },
  {
   "cell_type": "markdown",
   "metadata": {},
   "source": [
    "### Primer Clasificador de las variables seleccionadas"
   ]
  },
  {
   "cell_type": "code",
   "execution_count": null,
   "metadata": {},
   "outputs": [],
   "source": [
    "X_train, X_test, y_train, y_test = train_test_split(X, y, test_size=0.2, random_state=45, stratify=y)"
   ]
  },
  {
   "cell_type": "code",
   "execution_count": null,
   "metadata": {},
   "outputs": [],
   "source": [
    "forest = RandomForestClassifier(random_state=0)\n",
    "forest.fit(X_train, y_train)\n",
    "importances = forest.feature_importances_\n",
    "std = np.std([tree.feature_importances_ for tree in forest.estimators_], axis=0)\n",
    "forest_importances = pd.Series(importances, index=X.columns)\n",
    "\n",
    "fig, ax = plt.subplots()\n",
    "forest_importances.plot.barh(yerr=std, ax=ax)\n",
    "ax.set_title(\"Variables de mayor importancia usando MDI (Mean Decrease in Impurity)\")\n",
    "fig.tight_layout()\n",
    "plt.show()"
   ]
  },
  {
   "cell_type": "code",
   "execution_count": null,
   "metadata": {},
   "outputs": [],
   "source": [
    "result = permutation_importance(\n",
    "    forest, X_test, y_test, n_repeats=10, random_state=42, n_jobs=2\n",
    ")\n",
    "\n",
    "forest_importances = pd.Series(result.importances_mean, index=X.columns)\n",
    "\n",
    "fig, ax = plt.subplots()\n",
    "forest_importances.plot.barh(yerr=result.importances_std, ax=ax)\n",
    "ax.set_title(\"Variables de mayor importancia usando permutación en el modelo completo\")\n",
    "fig.tight_layout()\n",
    "plt.show()"
   ]
  },
  {
   "cell_type": "markdown",
   "metadata": {},
   "source": [
    "Selecciona las variables de mayor importancia"
   ]
  },
  {
   "cell_type": "markdown",
   "metadata": {},
   "source": [
    "Explora que clasificador es el más optimo.\n",
    "\n",
    "Determina el grado de exactitud a través del reporte de clasificación y análisis de la gráfica de Precision Recall."
   ]
  },
  {
   "cell_type": "markdown",
   "metadata": {},
   "source": [
    "## Modelo"
   ]
  },
  {
   "cell_type": "markdown",
   "metadata": {},
   "source": [
    "### Segundo clasificador con las variables más importantes"
   ]
  },
  {
   "cell_type": "code",
   "execution_count": null,
   "metadata": {},
   "outputs": [],
   "source": []
  },
  {
   "cell_type": "markdown",
   "metadata": {},
   "source": [
    "### Random Forest"
   ]
  },
  {
   "cell_type": "code",
   "execution_count": null,
   "metadata": {},
   "outputs": [],
   "source": [
    "mi_modelo_RF = RandomForestClassifier(random_state=45)\n",
    "cv = RepeatedStratifiedKFold(n_splits=5, n_repeats=3, random_state=45) # k-folds cross-validation\n",
    "\n",
    "dicc_grid = {'ccp_alpha':[0.0, 0.0001, 0.001, 0.01, 0.1],\n",
    "             'criterion': [\"gini\", \"entropy\", \"log_loss\"],\n",
    "             'max_depth':range(1,21,2),\n",
    "             'min_samples_split':range(2, 12, 2),\n",
    "            }\n",
    "\n",
    "grid = GridSearchCV(estimator=mi_modelo_RF, param_grid=dicc_grid, cv=cv, scoring=\"accuracy\", n_jobs=-1)\n",
    "\n",
    "grid.fit(X_train, np.ravel(y_train))\n",
    "\n",
    "print('Mejor valor de accuracy obtenido con la mejor combinación:', grid.best_score_)\n",
    "print('Mejor combinación de valores encontrados de los hiperparámetros:', grid.best_params_)\n",
    "print('Métrica utilizada:', grid.scoring)"
   ]
  },
  {
   "cell_type": "code",
   "execution_count": null,
   "metadata": {},
   "outputs": [],
   "source": [
    "mejor_RF = grid.best_estimator_\n",
    "y_hat = mejor_RF.predict(X_test)\n",
    "\n",
    "## Metrics report\n",
    "print(classification_report(y_test, y_hat, target_names=colores_semaforo))\n",
    "\n",
    "## Precision-recall plot\n",
    "y_test_bin = label_binarize(y_test, classes=y.unique())\n",
    "y_score = mejor_RF.predict_proba(X_test)\n",
    "\n",
    "# For each class\n",
    "precision = dict()\n",
    "recall = dict()\n",
    "average_precision = dict()\n",
    "n_classes = y_train.unique().shape[0]\n",
    "for i in range(n_classes):\n",
    "    precision[i], recall[i], _ = precision_recall_curve(y_test_bin[:, i], y_score[:, i])\n",
    "    average_precision[i] = average_precision_score(y_test_bin[:, i], y_score[:, i])\n",
    "\n",
    "# A \"micro-average\": quantifying score on all classes jointly\n",
    "precision[\"micro\"], recall[\"micro\"], _ = precision_recall_curve(\n",
    "    y_test_bin.ravel(), y_score.ravel()\n",
    ")\n",
    "average_precision[\"micro\"] = average_precision_score(y_test_bin, y_score, average=\"micro\")\n",
    "display = PrecisionRecallDisplay(\n",
    "    recall=recall[\"micro\"],\n",
    "    precision=precision[\"micro\"],\n",
    "    average_precision=average_precision[\"micro\"],\n",
    ")\n",
    "display.plot()\n",
    "_ = display.ax_.set_title(\"Micro-averaged over all classes\")"
   ]
  },
  {
   "cell_type": "markdown",
   "metadata": {},
   "source": [
    "### Decision Tree"
   ]
  },
  {
   "cell_type": "code",
   "execution_count": null,
   "metadata": {},
   "outputs": [],
   "source": [
    "mi_modelo_RF = DecisionTreeClassifier(random_state=45)\n",
    "cv = RepeatedStratifiedKFold(n_splits=5, n_repeats=3, random_state=45) # k-folds cross-validation\n",
    "\n",
    "dicc_grid = {'ccp_alpha':[0.0, 0.0001, 0.001, 0.01, 0.1],\n",
    "             'criterion': [\"gini\", \"entropy\", \"log_loss\"],\n",
    "             'max_depth':range(1,21,2),\n",
    "             'min_samples_split':range(2, 12, 2),\n",
    "             'class_weight':[None,'balanced'],\n",
    "            }\n",
    "\n",
    "grid = GridSearchCV(estimator=mi_modelo_RF, param_grid=dicc_grid, cv=cv, scoring=\"accuracy\", n_jobs=-1)\n",
    "\n",
    "grid.fit(X_train, np.ravel(y_train))\n",
    "\n",
    "print('Mejor valor de accuracy obtenido con la mejor combinación:', grid.best_score_)\n",
    "print('Mejor combinación de valores encontrados de los hiperparámetros:', grid.best_params_)\n",
    "print('Métrica utilizada:', grid.scoring)"
   ]
  },
  {
   "cell_type": "code",
   "execution_count": null,
   "metadata": {},
   "outputs": [],
   "source": [
    "mejor_DT = grid.best_estimator_\n",
    "y_hat = mejor_DT.predict(X_test)\n",
    "\n",
    "## Metrics report\n",
    "print(classification_report(y_test, y_hat, target_names=colores_semaforo))\n",
    "\n",
    "## Precision-recall plot\n",
    "y_score = mejor_DT.predict_proba(X_test)\n",
    "\n",
    "# For each class\n",
    "precision = dict()\n",
    "recall = dict()\n",
    "average_precision = dict()\n",
    "n_classes = y_train.unique().shape[0]\n",
    "for i in range(n_classes):\n",
    "    precision[i], recall[i], _ = precision_recall_curve(y_test_bin[:, i], y_score[:, i])\n",
    "    average_precision[i] = average_precision_score(y_test_bin[:, i], y_score[:, i])\n",
    "\n",
    "# A \"micro-average\": quantifying score on all classes jointly\n",
    "precision[\"micro\"], recall[\"micro\"], _ = precision_recall_curve(\n",
    "    y_test_bin.ravel(), y_score.ravel()\n",
    ")\n",
    "average_precision[\"micro\"] = average_precision_score(y_test_bin, y_score, average=\"micro\")\n",
    "display = PrecisionRecallDisplay(\n",
    "    recall=recall[\"micro\"],\n",
    "    precision=precision[\"micro\"],\n",
    "    average_precision=average_precision[\"micro\"],\n",
    ")\n",
    "display.plot()\n",
    "_ = display.ax_.set_title(\"Micro-averaged over all classes\")\n",
    "\n",
    "## Confusion matrix\n",
    "cf_matrix = confusion_matrix(y_test, y_hat)\n",
    "ConfusionMatrixDisplay.from_predictions(y_test, y_hat);"
   ]
  },
  {
   "cell_type": "markdown",
   "metadata": {},
   "source": [
    "## Análisis de Resultados con modelo de Decision Trees y Random Forest"
   ]
  },
  {
   "cell_type": "markdown",
   "metadata": {},
   "source": [
    "Visualiza los resultados del modelo o las predicciones a través de una matriz de confusión"
   ]
  },
  {
   "cell_type": "code",
   "execution_count": null,
   "metadata": {},
   "outputs": [],
   "source": [
    "## Confusion matrix\n",
    "y_hat = mejor_RF.predict(X_test)\n",
    "cf_matrix = confusion_matrix(y_test, y_hat)\n",
    "ConfusionMatrixDisplay.from_predictions(y_test, y_hat);"
   ]
  },
  {
   "cell_type": "code",
   "execution_count": null,
   "metadata": {},
   "outputs": [],
   "source": [
    "y_hat = mejor_DT.predict(X_test)\n",
    "cf_matrix = confusion_matrix(y_test, y_hat)\n",
    "ConfusionMatrixDisplay.from_predictions(y_test, y_hat);"
   ]
  },
  {
   "cell_type": "markdown",
   "metadata": {},
   "source": [
    "## Conclusiones"
   ]
  },
  {
   "cell_type": "code",
   "execution_count": null,
   "metadata": {},
   "outputs": [],
   "source": []
  },
  {
   "cell_type": "code",
   "execution_count": null,
   "metadata": {},
   "outputs": [],
   "source": []
  },
  {
   "cell_type": "code",
   "execution_count": null,
   "metadata": {},
   "outputs": [],
   "source": []
  }
 ],
 "metadata": {
  "kernelspec": {
   "display_name": "Python 3 (ipykernel)",
   "language": "python",
   "name": "python3"
  },
  "language_info": {
   "codemirror_mode": {
    "name": "ipython",
    "version": 3
   },
   "file_extension": ".py",
   "mimetype": "text/x-python",
   "name": "python",
   "nbconvert_exporter": "python",
   "pygments_lexer": "ipython3",
   "version": "3.10.4"
  },
  "vscode": {
   "interpreter": {
    "hash": "11938c6bc6919ae2720b4d5011047913343b08a43b18698fd82dedb0d4417594"
   }
  }
 },
 "nbformat": 4,
 "nbformat_minor": 2
}
