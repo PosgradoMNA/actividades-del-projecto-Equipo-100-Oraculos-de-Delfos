{
 "cells": [
  {
   "cell_type": "markdown",
   "metadata": {},
   "source": [
    "# Proyecto Final Parte II: Clasificación-ensambles"
   ]
  },
  {
   "cell_type": "markdown",
   "metadata": {},
   "source": [
    "![Logo Tec](img/LogoTec2.jpg)"
   ]
  },
  {
   "cell_type": "markdown",
   "metadata": {},
   "source": [
    "## Ciencia y analítica de datos (Gpo 10)\n",
    "### Alumnos: \n",
    "* Armando Bringas Corpus (A01200230), \n",
    "* Walter André Hauri Rosales (A01794237)\n",
    "\n",
    "### Profesores: \n",
    "* Dra. María de la Paz Rico Fernández\n",
    "* Mtra. Victoria Guerrero Orozco\n",
    "\n",
    "### Fecha: 18 de noviembre de 2022"
   ]
  },
  {
   "cell_type": "code",
   "execution_count": 1,
   "metadata": {},
   "outputs": [
    {
     "name": "stdout",
     "output_type": "stream",
     "text": [
      "Not running in a Jupyter Notebook\n"
     ]
    }
   ],
   "source": [
    "try:\n",
    "    from jupyterthemes import jtplot\n",
    "    jtplot.style(theme='monokai', context ='notebook', ticks =True, grid =False) \n",
    "except ImportError as error:\n",
    "   print('Not running in a Jupyter Notebook')"
   ]
  },
  {
   "cell_type": "code",
   "execution_count": 2,
   "metadata": {},
   "outputs": [],
   "source": [
    "import pandas as pd\n",
    "import numpy as np\n",
    "import matplotlib.pyplot as plt\n",
    "import seaborn as sns\n",
    "from sklearn.preprocessing import OneHotEncoder\n",
    "from sklearn.inspection import permutation_importance\n",
    "from sklearn.ensemble import RandomForestClassifier\n",
    "from sklearn.metrics import average_precision_score, classification_report, precision_recall_curve, PrecisionRecallDisplay, confusion_matrix, ConfusionMatrixDisplay\n",
    "from sklearn.model_selection import train_test_split, GridSearchCV, RepeatedStratifiedKFold\n",
    "from sklearn.pipeline import Pipeline\n",
    "from sklearn.preprocessing import label_binarize\n",
    "from sklearn.tree import DecisionTreeClassifier\n"
   ]
  },
  {
   "cell_type": "code",
   "execution_count": 3,
   "metadata": {},
   "outputs": [
    {
     "data": {
      "text/html": [
       "<div>\n",
       "<style scoped>\n",
       "    .dataframe tbody tr th:only-of-type {\n",
       "        vertical-align: middle;\n",
       "    }\n",
       "\n",
       "    .dataframe tbody tr th {\n",
       "        vertical-align: top;\n",
       "    }\n",
       "\n",
       "    .dataframe thead th {\n",
       "        text-align: right;\n",
       "    }\n",
       "</style>\n",
       "<table border=\"1\" class=\"dataframe\">\n",
       "  <thead>\n",
       "    <tr style=\"text-align: right;\">\n",
       "      <th></th>\n",
       "      <th>CLAVE</th>\n",
       "      <th>SITIO</th>\n",
       "      <th>ORGANISMO_DE_CUENCA</th>\n",
       "      <th>ESTADO</th>\n",
       "      <th>MUNICIPIO</th>\n",
       "      <th>CUENCA</th>\n",
       "      <th>CUERPO DE AGUA</th>\n",
       "      <th>TIPO</th>\n",
       "      <th>SUBTIPO</th>\n",
       "      <th>LONGITUD</th>\n",
       "      <th>...</th>\n",
       "      <th>CONTAMINANTES</th>\n",
       "      <th>CUMPLE_CON_DBO</th>\n",
       "      <th>CUMPLE_CON_DQO</th>\n",
       "      <th>CUMPLE_CON_SST</th>\n",
       "      <th>CUMPLE_CON_CF</th>\n",
       "      <th>CUMPLE_CON_E_COLI</th>\n",
       "      <th>CUMPLE_CON_ENTEROC</th>\n",
       "      <th>CUMPLE_CON_OD</th>\n",
       "      <th>CUMPLE_CON_TOX</th>\n",
       "      <th>GRUPO</th>\n",
       "    </tr>\n",
       "  </thead>\n",
       "  <tbody>\n",
       "    <tr>\n",
       "      <th>0</th>\n",
       "      <td>DLAGU8</td>\n",
       "      <td>PRESA EL SAUCILLO 100M AGUAS ARRIBA DE LA CORTINA</td>\n",
       "      <td>LERMA SANTIAGO PACIFICO</td>\n",
       "      <td>AGUASCALIENTES</td>\n",
       "      <td>RINCON DE ROMOS</td>\n",
       "      <td>RIO SAN PEDRO</td>\n",
       "      <td>PRESA EL SAUCILLO</td>\n",
       "      <td>LENTICO</td>\n",
       "      <td>PRESA</td>\n",
       "      <td>-102.33911</td>\n",
       "      <td>...</td>\n",
       "      <td>DQO,CF,</td>\n",
       "      <td>SI</td>\n",
       "      <td>NO</td>\n",
       "      <td>SI</td>\n",
       "      <td>NO</td>\n",
       "      <td>SI</td>\n",
       "      <td>ND</td>\n",
       "      <td>SI</td>\n",
       "      <td>SI</td>\n",
       "      <td>LENTICO</td>\n",
       "    </tr>\n",
       "    <tr>\n",
       "      <th>1</th>\n",
       "      <td>DLBAJ100</td>\n",
       "      <td>LOS CABOS SEG 22, 2 ISA10B</td>\n",
       "      <td>PENINSULA DE BAJA CALIFORNIA</td>\n",
       "      <td>BAJA CALIFORNIA SUR</td>\n",
       "      <td>LOS CABOS</td>\n",
       "      <td>SAN JOSE DEL CABO</td>\n",
       "      <td>OCEANO PACIFICO</td>\n",
       "      <td>COSTERO</td>\n",
       "      <td>OCEANO-MAR</td>\n",
       "      <td>-109.84290</td>\n",
       "      <td>...</td>\n",
       "      <td>Desconocido</td>\n",
       "      <td>ND</td>\n",
       "      <td>ND</td>\n",
       "      <td>SI</td>\n",
       "      <td>ND</td>\n",
       "      <td>ND</td>\n",
       "      <td>SI</td>\n",
       "      <td>SI</td>\n",
       "      <td>SI</td>\n",
       "      <td>COSTERO</td>\n",
       "    </tr>\n",
       "    <tr>\n",
       "      <th>2</th>\n",
       "      <td>DLBAJ101</td>\n",
       "      <td>LOS CABOS SEG 22, 1 ISA10B</td>\n",
       "      <td>PENINSULA DE BAJA CALIFORNIA</td>\n",
       "      <td>BAJA CALIFORNIA SUR</td>\n",
       "      <td>LOS CABOS</td>\n",
       "      <td>SAN LUCAS</td>\n",
       "      <td>OCEANO PACIFICO</td>\n",
       "      <td>COSTERO</td>\n",
       "      <td>OCEANO-MAR</td>\n",
       "      <td>-109.86442</td>\n",
       "      <td>...</td>\n",
       "      <td>Desconocido</td>\n",
       "      <td>ND</td>\n",
       "      <td>ND</td>\n",
       "      <td>SI</td>\n",
       "      <td>ND</td>\n",
       "      <td>ND</td>\n",
       "      <td>SI</td>\n",
       "      <td>SI</td>\n",
       "      <td>SI</td>\n",
       "      <td>COSTERO</td>\n",
       "    </tr>\n",
       "    <tr>\n",
       "      <th>3</th>\n",
       "      <td>DLBAJ102</td>\n",
       "      <td>LOS CABOS 3</td>\n",
       "      <td>PENINSULA DE BAJA CALIFORNIA</td>\n",
       "      <td>BAJA CALIFORNIA SUR</td>\n",
       "      <td>LOS CABOS</td>\n",
       "      <td>SAN LUCAS</td>\n",
       "      <td>BAHIA SAN LUCAS</td>\n",
       "      <td>COSTERO</td>\n",
       "      <td>BAHIA</td>\n",
       "      <td>-109.88604</td>\n",
       "      <td>...</td>\n",
       "      <td>Desconocido</td>\n",
       "      <td>ND</td>\n",
       "      <td>ND</td>\n",
       "      <td>SI</td>\n",
       "      <td>ND</td>\n",
       "      <td>ND</td>\n",
       "      <td>SI</td>\n",
       "      <td>SI</td>\n",
       "      <td>SI</td>\n",
       "      <td>COSTERO</td>\n",
       "    </tr>\n",
       "    <tr>\n",
       "      <th>4</th>\n",
       "      <td>DLBAJ103</td>\n",
       "      <td>LOS CABOS 1</td>\n",
       "      <td>PENINSULA DE BAJA CALIFORNIA</td>\n",
       "      <td>BAJA CALIFORNIA SUR</td>\n",
       "      <td>LOS CABOS</td>\n",
       "      <td>SAN LUCAS</td>\n",
       "      <td>BAHIA SAN LUCAS</td>\n",
       "      <td>COSTERO</td>\n",
       "      <td>BAHIA</td>\n",
       "      <td>-109.89657</td>\n",
       "      <td>...</td>\n",
       "      <td>Desconocido</td>\n",
       "      <td>ND</td>\n",
       "      <td>ND</td>\n",
       "      <td>SI</td>\n",
       "      <td>ND</td>\n",
       "      <td>ND</td>\n",
       "      <td>SI</td>\n",
       "      <td>SI</td>\n",
       "      <td>SI</td>\n",
       "      <td>COSTERO</td>\n",
       "    </tr>\n",
       "  </tbody>\n",
       "</table>\n",
       "<p>5 rows × 51 columns</p>\n",
       "</div>"
      ],
      "text/plain": [
       "      CLAVE                                              SITIO  \\\n",
       "0    DLAGU8  PRESA EL SAUCILLO 100M AGUAS ARRIBA DE LA CORTINA   \n",
       "1  DLBAJ100                         LOS CABOS SEG 22, 2 ISA10B   \n",
       "2  DLBAJ101                         LOS CABOS SEG 22, 1 ISA10B   \n",
       "3  DLBAJ102                                        LOS CABOS 3   \n",
       "4  DLBAJ103                                        LOS CABOS 1   \n",
       "\n",
       "            ORGANISMO_DE_CUENCA               ESTADO        MUNICIPIO  \\\n",
       "0       LERMA SANTIAGO PACIFICO       AGUASCALIENTES  RINCON DE ROMOS   \n",
       "1  PENINSULA DE BAJA CALIFORNIA  BAJA CALIFORNIA SUR        LOS CABOS   \n",
       "2  PENINSULA DE BAJA CALIFORNIA  BAJA CALIFORNIA SUR        LOS CABOS   \n",
       "3  PENINSULA DE BAJA CALIFORNIA  BAJA CALIFORNIA SUR        LOS CABOS   \n",
       "4  PENINSULA DE BAJA CALIFORNIA  BAJA CALIFORNIA SUR        LOS CABOS   \n",
       "\n",
       "              CUENCA     CUERPO DE AGUA     TIPO     SUBTIPO   LONGITUD  ...  \\\n",
       "0      RIO SAN PEDRO  PRESA EL SAUCILLO  LENTICO       PRESA -102.33911  ...   \n",
       "1  SAN JOSE DEL CABO    OCEANO PACIFICO  COSTERO  OCEANO-MAR -109.84290  ...   \n",
       "2          SAN LUCAS    OCEANO PACIFICO  COSTERO  OCEANO-MAR -109.86442  ...   \n",
       "3          SAN LUCAS    BAHIA SAN LUCAS  COSTERO       BAHIA -109.88604  ...   \n",
       "4          SAN LUCAS    BAHIA SAN LUCAS  COSTERO       BAHIA -109.89657  ...   \n",
       "\n",
       "   CONTAMINANTES  CUMPLE_CON_DBO  CUMPLE_CON_DQO CUMPLE_CON_SST  \\\n",
       "0        DQO,CF,              SI              NO             SI   \n",
       "1    Desconocido              ND              ND             SI   \n",
       "2    Desconocido              ND              ND             SI   \n",
       "3    Desconocido              ND              ND             SI   \n",
       "4    Desconocido              ND              ND             SI   \n",
       "\n",
       "   CUMPLE_CON_CF CUMPLE_CON_E_COLI  CUMPLE_CON_ENTEROC CUMPLE_CON_OD  \\\n",
       "0             NO                SI                  ND            SI   \n",
       "1             ND                ND                  SI            SI   \n",
       "2             ND                ND                  SI            SI   \n",
       "3             ND                ND                  SI            SI   \n",
       "4             ND                ND                  SI            SI   \n",
       "\n",
       "   CUMPLE_CON_TOX    GRUPO  \n",
       "0              SI  LENTICO  \n",
       "1              SI  COSTERO  \n",
       "2              SI  COSTERO  \n",
       "3              SI  COSTERO  \n",
       "4              SI  COSTERO  \n",
       "\n",
       "[5 rows x 51 columns]"
      ]
     },
     "execution_count": 3,
     "metadata": {},
     "output_type": "execute_result"
    }
   ],
   "source": [
    "data = pd.read_csv(\"data/Datos_de_calidad_del_agua_de_sitios_de_monitoreo_de_aguas_superficiales_2020_limpio.csv\", index_col=0)\n",
    "data.head()"
   ]
  },
  {
   "cell_type": "markdown",
   "metadata": {},
   "source": [
    "## Selecciona de variables independientes X y dependiente Y (semáforo)"
   ]
  },
  {
   "cell_type": "code",
   "execution_count": 4,
   "metadata": {},
   "outputs": [],
   "source": [
    "y = data[\"SEMAFORO\"]\n",
    "X = data.drop(columns=[\"SEMAFORO\"])"
   ]
  },
  {
   "cell_type": "code",
   "execution_count": 5,
   "metadata": {},
   "outputs": [],
   "source": [
    "X = X.select_dtypes([\"float64\"])"
   ]
  },
  {
   "cell_type": "markdown",
   "metadata": {},
   "source": [
    "Cambia a label encoding el semáforo, ej, de [\"clase 1\", \"clase 2\", \"clase 3\"] a [ 1,2,3]. Desde la limpieza de datos se implemento el \"label encoding\" en la variable de salida"
   ]
  },
  {
   "cell_type": "code",
   "execution_count": 6,
   "metadata": {},
   "outputs": [
    {
     "data": {
      "text/plain": [
       "array([1, 2, 0], dtype=int64)"
      ]
     },
     "execution_count": 6,
     "metadata": {},
     "output_type": "execute_result"
    }
   ],
   "source": [
    "colores_semaforo = {'Amarillo': 0, 'Rojo': 1, 'Verde': 2}\n",
    "y.unique() # Desde la limpieza se convritió a variable categórica"
   ]
  },
  {
   "cell_type": "markdown",
   "metadata": {},
   "source": [
    "###  Análisis general de las features importances a través de decision trees o random forest"
   ]
  },
  {
   "cell_type": "markdown",
   "metadata": {},
   "source": [
    "#### Decision Tree"
   ]
  },
  {
   "cell_type": "code",
   "execution_count": 7,
   "metadata": {},
   "outputs": [
    {
     "data": {
      "image/png": "[encoded data removed]",
      "text/plain": [
       "<Figure size 432x288 with 1 Axes>"
      ]
     },
     "metadata": {
      "needs_background": "light"
     },
     "output_type": "display_data"
    }
   ],
   "source": [
    "modelo_DT = DecisionTreeClassifier()\n",
    "clf = modelo_DT.fit(X, y)\n",
    "\n",
    "fig, ax = plt.subplots()\n",
    "plt.barh(X.columns, width = clf.feature_importances_)\n",
    "ax.set_title(\"Variables de mayor importancia usando Decision Trees\")\n",
    "fig.tight_layout()\n",
    "plt.show()"
   ]
  },
  {
   "cell_type": "markdown",
   "metadata": {},
   "source": [
    "#### Random Forest"
   ]
  },
  {
   "cell_type": "code",
   "execution_count": 8,
   "metadata": {},
   "outputs": [
    {
     "data": {
      "image/png": "[encoded data removed]",
      "text/plain": [
       "<Figure size 432x288 with 1 Axes>"
      ]
     },
     "metadata": {
      "needs_background": "light"
     },
     "output_type": "display_data"
    }
   ],
   "source": [
    "modelo_RF = RandomForestClassifier()\n",
    "clf = modelo_RF.fit(X, y)\n",
    "\n",
    "fig, ax = plt.subplots()\n",
    "plt.barh(X.columns, width = clf.feature_importances_);\n",
    "ax.set_title(\"Variables de mayor importancia usando Random Forest\")\n",
    "fig.tight_layout()\n",
    "plt.show()"
   ]
  },
  {
   "cell_type": "markdown",
   "metadata": {},
   "source": [
    "## Importancia de las Variables"
   ]
  },
  {
   "cell_type": "markdown",
   "metadata": {},
   "source": [
    "### Primer Clasificador de las variables seleccionadas"
   ]
  },
  {
   "cell_type": "code",
   "execution_count": 9,
   "metadata": {},
   "outputs": [],
   "source": [
    "X_train, X_test, y_train, y_test = train_test_split(X, y, test_size=0.2, random_state=45, stratify=y)"
   ]
  },
  {
   "cell_type": "markdown",
   "metadata": {},
   "source": [
    "### Random Forest"
   ]
  },
  {
   "cell_type": "markdown",
   "metadata": {},
   "source": [
    "#### MDI (Mean Decrease in Impurity)"
   ]
  },
  {
   "cell_type": "code",
   "execution_count": 10,
   "metadata": {},
   "outputs": [
    {
     "data": {
      "image/png": "[encoded data removed]",
      "text/plain": [
       "<Figure size 432x288 with 1 Axes>"
      ]
     },
     "metadata": {
      "needs_background": "light"
     },
     "output_type": "display_data"
    }
   ],
   "source": [
    "forest = RandomForestClassifier(random_state=0)\n",
    "forest.fit(X_train, y_train)\n",
    "importances = forest.feature_importances_\n",
    "std = np.std([tree.feature_importances_ for tree in forest.estimators_], axis=0)\n",
    "forest_importances = pd.Series(importances, index=X.columns)\n",
    "\n",
    "fig, ax = plt.subplots()\n",
    "forest_importances.plot.barh(yerr=std, ax=ax)\n",
    "ax.set_title(\"Variables de mayor importancia usando MDI (Mean Decrease in Impurity)\")\n",
    "fig.tight_layout()\n",
    "plt.show()"
   ]
  },
  {
   "cell_type": "markdown",
   "metadata": {},
   "source": [
    "#### Permutación en el modelo completo"
   ]
  },
  {
   "cell_type": "code",
   "execution_count": 11,
   "metadata": {},
   "outputs": [
    {
     "data": {
      "image/png": "[encoded data removed]",
      "text/plain": [
       "<Figure size 432x288 with 1 Axes>"
      ]
     },
     "metadata": {
      "needs_background": "light"
     },
     "output_type": "display_data"
    }
   ],
   "source": [
    "result = permutation_importance(\n",
    "    forest, X_test, y_test, n_repeats=10, random_state=42, n_jobs=2\n",
    ")\n",
    "\n",
    "forest_importances = pd.Series(result.importances_mean, index=X.columns)\n",
    "\n",
    "fig, ax = plt.subplots()\n",
    "forest_importances.plot.barh(yerr=result.importances_std, ax=ax)\n",
    "ax.set_title(\"Variables de mayor importancia usando permutación en el modelo completo\")\n",
    "fig.tight_layout()\n",
    "plt.show()"
   ]
  },
  {
   "cell_type": "markdown",
   "metadata": {},
   "source": [
    "### Selección de las variables de mayor importancia"
   ]
  },
  {
   "cell_type": "markdown",
   "metadata": {},
   "source": [
    "Si comparamos las gráficas las mismas características son detectadas como más importantes en los método de MDI y permutación, sin embargo, en MDI es menos probable que omita alguna variable a comparación de la de permutación. Por lo tanto, seleccionamos las variables más importantes del método de MDI.\n"
   ]
  },
  {
   "cell_type": "code",
   "execution_count": 12,
   "metadata": {},
   "outputs": [],
   "source": [
    "selected_X_variables = ['LONGITUD', 'LATITUD', 'DBO_mg/L', 'DQO_mg/L', 'SST_mg/L', 'COLI_FEC_NMP_100mL',\n",
    "                       'E_COLI_NMP_100mL', 'ENTEROC_NMP_100mL', 'OD_PORC', 'OD_PORC_SUP', 'OD_PORC_FON',\n",
    "                       'TOX_V_15_UT','TOX_D_48_SUP_UT']\n",
    "X = data[selected_X_variables]"
   ]
  },
  {
   "cell_type": "markdown",
   "metadata": {},
   "source": [
    "## Modelo"
   ]
  },
  {
   "cell_type": "markdown",
   "metadata": {},
   "source": [
    "### Segundo clasificador con las variables más importantes"
   ]
  },
  {
   "cell_type": "code",
   "execution_count": 13,
   "metadata": {},
   "outputs": [],
   "source": [
    "X_train, X_test, y_train, y_test = train_test_split(X, y, test_size=0.2, random_state=45, stratify=y)"
   ]
  },
  {
   "cell_type": "markdown",
   "metadata": {},
   "source": [
    "### Random Forest"
   ]
  },
  {
   "cell_type": "code",
   "execution_count": 14,
   "metadata": {},
   "outputs": [
    {
     "name": "stdout",
     "output_type": "stream",
     "text": [
      "Mejor valor de accuracy obtenido con la mejor combinación: 0.9865192793924977\n",
      "Mejor combinación de valores encontrados de los hiperparámetros: {'ccp_alpha': 0.0, 'criterion': 'gini', 'max_depth': 19, 'min_samples_split': 2}\n",
      "Métrica utilizada: accuracy\n"
     ]
    }
   ],
   "source": [
    "mi_modelo_RF = RandomForestClassifier(random_state=45)\n",
    "cv = RepeatedStratifiedKFold(n_splits=5, n_repeats=3, random_state=45) # k-folds cross-validation\n",
    "\n",
    "dicc_grid = {'ccp_alpha':[0.0, 0.0001, 0.001, 0.01, 0.1],\n",
    "             'criterion': [\"gini\", \"entropy\", \"log_loss\"],\n",
    "             'max_depth':range(1,21,2),\n",
    "             'min_samples_split':range(2, 12, 2),\n",
    "            }\n",
    "\n",
    "grid = GridSearchCV(estimator=mi_modelo_RF, param_grid=dicc_grid, cv=cv, scoring=\"accuracy\", n_jobs=-1)\n",
    "\n",
    "grid.fit(X_train, np.ravel(y_train))\n",
    "\n",
    "print('Mejor valor de accuracy obtenido con la mejor combinación:', grid.best_score_)\n",
    "print('Mejor combinación de valores encontrados de los hiperparámetros:', grid.best_params_)\n",
    "print('Métrica utilizada:', grid.scoring)"
   ]
  },
  {
   "cell_type": "markdown",
   "metadata": {},
   "source": [
    "#### Análisis de Resultados (Métricas de exactitud)"
   ]
  },
  {
   "cell_type": "code",
   "execution_count": 15,
   "metadata": {},
   "outputs": [
    {
     "name": "stdout",
     "output_type": "stream",
     "text": [
      "              precision    recall  f1-score   support\n",
      "\n",
      "    Amarillo       0.99      0.99      0.99       227\n",
      "        Rojo       1.00      1.00      1.00       218\n",
      "       Verde       0.98      0.99      0.99       254\n",
      "\n",
      "    accuracy                           0.99       699\n",
      "   macro avg       0.99      0.99      0.99       699\n",
      "weighted avg       0.99      0.99      0.99       699\n",
      "\n"
     ]
    }
   ],
   "source": [
    "mejor_RF = grid.best_estimator_\n",
    "y_hat = mejor_RF.predict(X_test)\n",
    "\n",
    "## Metrics report\n",
    "print(classification_report(y_test, y_hat, target_names=colores_semaforo))"
   ]
  },
  {
   "cell_type": "markdown",
   "metadata": {},
   "source": [
    "##### Gráfica de Precision Recall"
   ]
  },
  {
   "cell_type": "code",
   "execution_count": 16,
   "metadata": {},
   "outputs": [
    {
     "data": {
      "image/png": "[encoded data removed]",
      "text/plain": [
       "<Figure size 432x288 with 1 Axes>"
      ]
     },
     "metadata": {
      "needs_background": "light"
     },
     "output_type": "display_data"
    }
   ],
   "source": [
    "## Precision-recall plot\n",
    "y_test_bin = label_binarize(y_test, classes=y.unique())\n",
    "y_score = mejor_RF.predict_proba(X_test)\n",
    "\n",
    "# For each class\n",
    "precision = dict()\n",
    "recall = dict()\n",
    "average_precision = dict()\n",
    "n_classes = y_train.unique().shape[0]\n",
    "for i in range(n_classes):\n",
    "    precision[i], recall[i], _ = precision_recall_curve(y_test_bin[:, i], y_score[:, i])\n",
    "    average_precision[i] = average_precision_score(y_test_bin[:, i], y_score[:, i])\n",
    "\n",
    "# A \"micro-average\": quantifying score on all classes jointly\n",
    "precision[\"micro\"], recall[\"micro\"], _ = precision_recall_curve(\n",
    "    y_test_bin.ravel(), y_score.ravel()\n",
    ")\n",
    "average_precision[\"micro\"] = average_precision_score(y_test_bin, y_score, average=\"micro\")\n",
    "display = PrecisionRecallDisplay(\n",
    "    recall=recall[\"micro\"],\n",
    "    precision=precision[\"micro\"],\n",
    "    average_precision=average_precision[\"micro\"],\n",
    ")\n",
    "display.plot()\n",
    "_ = display.ax_.set_title(\"Micro-averaged over all classes\")"
   ]
  },
  {
   "cell_type": "markdown",
   "metadata": {},
   "source": [
    "##### Matriz de Confusión"
   ]
  },
  {
   "cell_type": "code",
   "execution_count": 17,
   "metadata": {},
   "outputs": [
    {
     "data": {
      "image/png": "[encoded data removed]",
      "text/plain": [
       "<Figure size 432x288 with 2 Axes>"
      ]
     },
     "metadata": {
      "needs_background": "light"
     },
     "output_type": "display_data"
    }
   ],
   "source": [
    "## Confusion matrix\n",
    "cf_matrix = confusion_matrix(y_test, y_hat)\n",
    "ConfusionMatrixDisplay.from_predictions(y_test, y_hat);"
   ]
  },
  {
   "cell_type": "markdown",
   "metadata": {},
   "source": [
    "### Decision Tree"
   ]
  },
  {
   "cell_type": "code",
   "execution_count": 19,
   "metadata": {},
   "outputs": [
    {
     "name": "stdout",
     "output_type": "stream",
     "text": [
      "Mejor valor de accuracy obtenido con la mejor combinación: 0.9927231807951987\n",
      "Mejor combinación de valores encontrados de los hiperparámetros: {'ccp_alpha': 0.0, 'class_weight': 'balanced', 'criterion': 'entropy', 'max_depth': 13, 'min_samples_split': 2}\n",
      "Métrica utilizada: accuracy\n"
     ]
    }
   ],
   "source": [
    "mi_modelo_DT = DecisionTreeClassifier(random_state=45)\n",
    "cv = RepeatedStratifiedKFold(n_splits=5, n_repeats=3, random_state=45) # k-folds cross-validation\n",
    "\n",
    "dicc_grid = {'ccp_alpha':[0.0, 0.0001, 0.001, 0.01, 0.1],\n",
    "             'criterion': [\"gini\", \"entropy\", \"log_loss\"],\n",
    "             'max_depth':range(1,21,2),\n",
    "             'min_samples_split':range(2, 12, 2),\n",
    "             'class_weight':[None,'balanced'],\n",
    "            }\n",
    "\n",
    "grid = GridSearchCV(estimator=mi_modelo_DT, param_grid=dicc_grid, cv=cv, scoring=\"accuracy\", n_jobs=-1)\n",
    "\n",
    "grid.fit(X_train, np.ravel(y_train))\n",
    "\n",
    "print('Mejor valor de accuracy obtenido con la mejor combinación:', grid.best_score_)\n",
    "print('Mejor combinación de valores encontrados de los hiperparámetros:', grid.best_params_)\n",
    "print('Métrica utilizada:', grid.scoring)"
   ]
  },
  {
   "cell_type": "markdown",
   "metadata": {},
   "source": [
    "#### Análisis de Resultados (Métricas de exactitud)"
   ]
  },
  {
   "cell_type": "code",
   "execution_count": 20,
   "metadata": {},
   "outputs": [
    {
     "name": "stdout",
     "output_type": "stream",
     "text": [
      "              precision    recall  f1-score   support\n",
      "\n",
      "    Amarillo       1.00      1.00      1.00       227\n",
      "        Rojo       1.00      1.00      1.00       218\n",
      "       Verde       1.00      1.00      1.00       254\n",
      "\n",
      "    accuracy                           1.00       699\n",
      "   macro avg       1.00      1.00      1.00       699\n",
      "weighted avg       1.00      1.00      1.00       699\n",
      "\n"
     ]
    }
   ],
   "source": [
    "mejor_DT = grid.best_estimator_\n",
    "y_hat = mejor_DT.predict(X_test)\n",
    "\n",
    "## Metrics report\n",
    "print(classification_report(y_test, y_hat, target_names=colores_semaforo))"
   ]
  },
  {
   "cell_type": "markdown",
   "metadata": {},
   "source": [
    "##### Gráfica de Precision Recall"
   ]
  },
  {
   "cell_type": "code",
   "execution_count": 21,
   "metadata": {},
   "outputs": [
    {
     "data": {
      "image/png": "[encoded data removed]",
      "text/plain": [
       "<Figure size 432x288 with 1 Axes>"
      ]
     },
     "metadata": {
      "needs_background": "light"
     },
     "output_type": "display_data"
    }
   ],
   "source": [
    "## Precision-recall plot\n",
    "y_score = mejor_DT.predict_proba(X_test)\n",
    "\n",
    "# For each class\n",
    "precision = dict()\n",
    "recall = dict()\n",
    "average_precision = dict()\n",
    "n_classes = y_train.unique().shape[0]\n",
    "for i in range(n_classes):\n",
    "    precision[i], recall[i], _ = precision_recall_curve(y_test_bin[:, i], y_score[:, i])\n",
    "    average_precision[i] = average_precision_score(y_test_bin[:, i], y_score[:, i])\n",
    "\n",
    "# A \"micro-average\": quantifying score on all classes jointly\n",
    "precision[\"micro\"], recall[\"micro\"], _ = precision_recall_curve(\n",
    "    y_test_bin.ravel(), y_score.ravel()\n",
    ")\n",
    "average_precision[\"micro\"] = average_precision_score(y_test_bin, y_score, average=\"micro\")\n",
    "display = PrecisionRecallDisplay(\n",
    "    recall=recall[\"micro\"],\n",
    "    precision=precision[\"micro\"],\n",
    "    average_precision=average_precision[\"micro\"],\n",
    ")\n",
    "display.plot()\n",
    "_ = display.ax_.set_title(\"Micro-averaged over all classes\")"
   ]
  },
  {
   "cell_type": "markdown",
   "metadata": {},
   "source": [
    "##### Matriz de Confusión"
   ]
  },
  {
   "cell_type": "code",
   "execution_count": 22,
   "metadata": {},
   "outputs": [
    {
     "data": {
      "image/png": "[encoded data removed]",
      "text/plain": [
       "<Figure size 432x288 with 2 Axes>"
      ]
     },
     "metadata": {
      "needs_background": "light"
     },
     "output_type": "display_data"
    }
   ],
   "source": [
    "## Confusion matrix\n",
    "cf_matrix = confusion_matrix(y_test, y_hat)\n",
    "ConfusionMatrixDisplay.from_predictions(y_test, y_hat);"
   ]
  },
  {
   "cell_type": "markdown",
   "metadata": {},
   "source": [
    "## Conclusiones"
   ]
  },
  {
   "cell_type": "markdown",
   "metadata": {},
   "source": [
    "Emplear el modelo de Random Forest como clasificador en un inicio nos permitió hacer una selección de las variables de entrada más importantes y posteriormente construir los modelos de Random Forest y Decision trees para predicción. Encontramos que este tipo de algoritmos son muy versátiles tanto para tareas de clasificación y regresión, teniendo como variable de salida ya sea de tipo numérica o categórica.\n",
    "\n",
    "Con respecto al 'Feature Importance', pudimos observar que existen ciertas variables que tienen mayor releva\n",
    "\n",
    "De acuerdo a las predicciones que obtuvimos de ambos modelos, podemos observar que la precisión de ambos algoritmos, Decision Trees (precisión 'accuracy' de %99.99) y Random Forest (precisión 'accuracy' de %99) es similar, los dos funcionan de forma adecuada, sin embargo, el de Random Forest consume más tiempo computacional al ejecturse para realziar el 'Grid Search' por lo que tomando en consideración este último aspecto, para este caso particular es más conveniente usar Decision Trees y tuvo una exactitud ligeramente mejor.\n"
   ]
  }
 ],
 "metadata": {
  "kernelspec": {
   "display_name": "Python 3 (ipykernel)",
   "language": "python",
   "name": "python3"
  },
  "language_info": {
   "codemirror_mode": {
    "name": "ipython",
    "version": 3
   },
   "file_extension": ".py",
   "mimetype": "text/x-python",
   "name": "python",
   "nbconvert_exporter": "python",
   "pygments_lexer": "ipython3",
   "version": "3.9.6"
  },
  "vscode": {
   "interpreter": {
    "hash": "11938c6bc6919ae2720b4d5011047913343b08a43b18698fd82dedb0d4417594"
   }
  }
 },
 "nbformat": 4,
 "nbformat_minor": 2
}
