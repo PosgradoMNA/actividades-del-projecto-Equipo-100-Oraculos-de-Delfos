{
 "cells": [
  {
   "cell_type": "markdown",
   "id": "16e444d4",
   "metadata": {},
   "source": [
    "# Proyecto Final Parte II: Clasificación-ensambles y presentación ejecutiva"
   ]
  },
  {
   "cell_type": "markdown",
   "id": "16c23bab",
   "metadata": {},
   "source": [
    "![Logo Tec](img/LogoTec2.jpg)"
   ]
  },
  {
   "cell_type": "markdown",
   "id": "17389b62",
   "metadata": {},
   "source": [
    "## Ciencia y analítica de datos (Gpo 10)\n",
    "### Alumnos: \n",
    "* Armando Bringas Corpus (A01200230), \n",
    "* Walter André Hauri Rosales (A01794237)\n",
    "\n",
    "### Profesores: \n",
    "* Dra. María de la Paz Rico Fernández\n",
    "* Mtra. Victoria Guerrero Orozco\n",
    "\n",
    "### Fecha: 18 de noviembre de 2022"
   ]
  },
  {
   "cell_type": "code",
   "execution_count": null,
   "id": "2e5c0e34",
   "metadata": {},
   "outputs": [],
   "source": [
    "try:\n",
    "    from jupyterthemes import jtplot\n",
    "    jtplot.style(theme='monokai', context ='notebook', ticks =True, grid =False) \n",
    "except ImportError as error:\n",
    "   print('Not running in a Jupyter Notebook')"
   ]
  },
  {
   "cell_type": "code",
   "execution_count": 52,
   "metadata": {},
   "outputs": [],
   "source": [
    "import pandas as pd\n",
    "import numpy as np\n",
    "import matplotlib.pyplot as plt\n",
    "import seaborn as sns\n",
    "from sklearn.model_selection import train_test_split, GridSearchCV\n",
    "from sklearn.pipeline import Pipeline\n",
    "from sklearn.ensemble import RandomForestClassifier\n",
    "from sklearn.tree import DecisionTreeClassifier\n",
    "from sklearn.metrics import classification_report, PrecisionRecallDisplay, confusion_matrix, ConfusionMatrixDisplay"
   ]
  },
  {
   "cell_type": "code",
   "execution_count": 25,
   "metadata": {},
   "outputs": [
    {
     "data": {
      "text/html": [
       "<div>\n",
       "<style scoped>\n",
       "    .dataframe tbody tr th:only-of-type {\n",
       "        vertical-align: middle;\n",
       "    }\n",
       "\n",
       "    .dataframe tbody tr th {\n",
       "        vertical-align: top;\n",
       "    }\n",
       "\n",
       "    .dataframe thead th {\n",
       "        text-align: right;\n",
       "    }\n",
       "</style>\n",
       "<table border=\"1\" class=\"dataframe\">\n",
       "  <thead>\n",
       "    <tr style=\"text-align: right;\">\n",
       "      <th></th>\n",
       "      <th>CLAVE</th>\n",
       "      <th>SITIO</th>\n",
       "      <th>ORGANISMO_DE_CUENCA</th>\n",
       "      <th>ESTADO</th>\n",
       "      <th>MUNICIPIO</th>\n",
       "      <th>CUENCA</th>\n",
       "      <th>CUERPO DE AGUA</th>\n",
       "      <th>TIPO</th>\n",
       "      <th>SUBTIPO</th>\n",
       "      <th>LONGITUD</th>\n",
       "      <th>...</th>\n",
       "      <th>CONTAMINANTES</th>\n",
       "      <th>CUMPLE_CON_DBO</th>\n",
       "      <th>CUMPLE_CON_DQO</th>\n",
       "      <th>CUMPLE_CON_SST</th>\n",
       "      <th>CUMPLE_CON_CF</th>\n",
       "      <th>CUMPLE_CON_E_COLI</th>\n",
       "      <th>CUMPLE_CON_ENTEROC</th>\n",
       "      <th>CUMPLE_CON_OD</th>\n",
       "      <th>CUMPLE_CON_TOX</th>\n",
       "      <th>GRUPO</th>\n",
       "    </tr>\n",
       "  </thead>\n",
       "  <tbody>\n",
       "    <tr>\n",
       "      <th>0</th>\n",
       "      <td>DLAGU8</td>\n",
       "      <td>PRESA EL SAUCILLO 100M AGUAS ARRIBA DE LA CORTINA</td>\n",
       "      <td>LERMA SANTIAGO PACIFICO</td>\n",
       "      <td>AGUASCALIENTES</td>\n",
       "      <td>RINCON DE ROMOS</td>\n",
       "      <td>RIO SAN PEDRO</td>\n",
       "      <td>PRESA EL SAUCILLO</td>\n",
       "      <td>LENTICO</td>\n",
       "      <td>PRESA</td>\n",
       "      <td>-102.33911</td>\n",
       "      <td>...</td>\n",
       "      <td>DQO,CF,</td>\n",
       "      <td>SI</td>\n",
       "      <td>NO</td>\n",
       "      <td>SI</td>\n",
       "      <td>NO</td>\n",
       "      <td>SI</td>\n",
       "      <td>ND</td>\n",
       "      <td>SI</td>\n",
       "      <td>SI</td>\n",
       "      <td>LENTICO</td>\n",
       "    </tr>\n",
       "    <tr>\n",
       "      <th>1</th>\n",
       "      <td>DLBAJ100</td>\n",
       "      <td>LOS CABOS SEG 22, 2 ISA10B</td>\n",
       "      <td>PENINSULA DE BAJA CALIFORNIA</td>\n",
       "      <td>BAJA CALIFORNIA SUR</td>\n",
       "      <td>LOS CABOS</td>\n",
       "      <td>SAN JOSE DEL CABO</td>\n",
       "      <td>OCEANO PACIFICO</td>\n",
       "      <td>COSTERO</td>\n",
       "      <td>OCEANO-MAR</td>\n",
       "      <td>-109.84290</td>\n",
       "      <td>...</td>\n",
       "      <td>Desconocido</td>\n",
       "      <td>ND</td>\n",
       "      <td>ND</td>\n",
       "      <td>SI</td>\n",
       "      <td>ND</td>\n",
       "      <td>ND</td>\n",
       "      <td>SI</td>\n",
       "      <td>SI</td>\n",
       "      <td>SI</td>\n",
       "      <td>COSTERO</td>\n",
       "    </tr>\n",
       "    <tr>\n",
       "      <th>2</th>\n",
       "      <td>DLBAJ101</td>\n",
       "      <td>LOS CABOS SEG 22, 1 ISA10B</td>\n",
       "      <td>PENINSULA DE BAJA CALIFORNIA</td>\n",
       "      <td>BAJA CALIFORNIA SUR</td>\n",
       "      <td>LOS CABOS</td>\n",
       "      <td>SAN LUCAS</td>\n",
       "      <td>OCEANO PACIFICO</td>\n",
       "      <td>COSTERO</td>\n",
       "      <td>OCEANO-MAR</td>\n",
       "      <td>-109.86442</td>\n",
       "      <td>...</td>\n",
       "      <td>Desconocido</td>\n",
       "      <td>ND</td>\n",
       "      <td>ND</td>\n",
       "      <td>SI</td>\n",
       "      <td>ND</td>\n",
       "      <td>ND</td>\n",
       "      <td>SI</td>\n",
       "      <td>SI</td>\n",
       "      <td>SI</td>\n",
       "      <td>COSTERO</td>\n",
       "    </tr>\n",
       "    <tr>\n",
       "      <th>3</th>\n",
       "      <td>DLBAJ102</td>\n",
       "      <td>LOS CABOS 3</td>\n",
       "      <td>PENINSULA DE BAJA CALIFORNIA</td>\n",
       "      <td>BAJA CALIFORNIA SUR</td>\n",
       "      <td>LOS CABOS</td>\n",
       "      <td>SAN LUCAS</td>\n",
       "      <td>BAHIA SAN LUCAS</td>\n",
       "      <td>COSTERO</td>\n",
       "      <td>BAHIA</td>\n",
       "      <td>-109.88604</td>\n",
       "      <td>...</td>\n",
       "      <td>Desconocido</td>\n",
       "      <td>ND</td>\n",
       "      <td>ND</td>\n",
       "      <td>SI</td>\n",
       "      <td>ND</td>\n",
       "      <td>ND</td>\n",
       "      <td>SI</td>\n",
       "      <td>SI</td>\n",
       "      <td>SI</td>\n",
       "      <td>COSTERO</td>\n",
       "    </tr>\n",
       "    <tr>\n",
       "      <th>4</th>\n",
       "      <td>DLBAJ103</td>\n",
       "      <td>LOS CABOS 1</td>\n",
       "      <td>PENINSULA DE BAJA CALIFORNIA</td>\n",
       "      <td>BAJA CALIFORNIA SUR</td>\n",
       "      <td>LOS CABOS</td>\n",
       "      <td>SAN LUCAS</td>\n",
       "      <td>BAHIA SAN LUCAS</td>\n",
       "      <td>COSTERO</td>\n",
       "      <td>BAHIA</td>\n",
       "      <td>-109.89657</td>\n",
       "      <td>...</td>\n",
       "      <td>Desconocido</td>\n",
       "      <td>ND</td>\n",
       "      <td>ND</td>\n",
       "      <td>SI</td>\n",
       "      <td>ND</td>\n",
       "      <td>ND</td>\n",
       "      <td>SI</td>\n",
       "      <td>SI</td>\n",
       "      <td>SI</td>\n",
       "      <td>COSTERO</td>\n",
       "    </tr>\n",
       "  </tbody>\n",
       "</table>\n",
       "<p>5 rows × 51 columns</p>\n",
       "</div>"
      ],
      "text/plain": [
       "      CLAVE                                              SITIO  \\\n",
       "0    DLAGU8  PRESA EL SAUCILLO 100M AGUAS ARRIBA DE LA CORTINA   \n",
       "1  DLBAJ100                         LOS CABOS SEG 22, 2 ISA10B   \n",
       "2  DLBAJ101                         LOS CABOS SEG 22, 1 ISA10B   \n",
       "3  DLBAJ102                                        LOS CABOS 3   \n",
       "4  DLBAJ103                                        LOS CABOS 1   \n",
       "\n",
       "            ORGANISMO_DE_CUENCA               ESTADO        MUNICIPIO  \\\n",
       "0       LERMA SANTIAGO PACIFICO       AGUASCALIENTES  RINCON DE ROMOS   \n",
       "1  PENINSULA DE BAJA CALIFORNIA  BAJA CALIFORNIA SUR        LOS CABOS   \n",
       "2  PENINSULA DE BAJA CALIFORNIA  BAJA CALIFORNIA SUR        LOS CABOS   \n",
       "3  PENINSULA DE BAJA CALIFORNIA  BAJA CALIFORNIA SUR        LOS CABOS   \n",
       "4  PENINSULA DE BAJA CALIFORNIA  BAJA CALIFORNIA SUR        LOS CABOS   \n",
       "\n",
       "              CUENCA     CUERPO DE AGUA     TIPO     SUBTIPO   LONGITUD  ...  \\\n",
       "0      RIO SAN PEDRO  PRESA EL SAUCILLO  LENTICO       PRESA -102.33911  ...   \n",
       "1  SAN JOSE DEL CABO    OCEANO PACIFICO  COSTERO  OCEANO-MAR -109.84290  ...   \n",
       "2          SAN LUCAS    OCEANO PACIFICO  COSTERO  OCEANO-MAR -109.86442  ...   \n",
       "3          SAN LUCAS    BAHIA SAN LUCAS  COSTERO       BAHIA -109.88604  ...   \n",
       "4          SAN LUCAS    BAHIA SAN LUCAS  COSTERO       BAHIA -109.89657  ...   \n",
       "\n",
       "   CONTAMINANTES  CUMPLE_CON_DBO  CUMPLE_CON_DQO CUMPLE_CON_SST  \\\n",
       "0        DQO,CF,              SI              NO             SI   \n",
       "1    Desconocido              ND              ND             SI   \n",
       "2    Desconocido              ND              ND             SI   \n",
       "3    Desconocido              ND              ND             SI   \n",
       "4    Desconocido              ND              ND             SI   \n",
       "\n",
       "   CUMPLE_CON_CF CUMPLE_CON_E_COLI  CUMPLE_CON_ENTEROC CUMPLE_CON_OD  \\\n",
       "0             NO                SI                  ND            SI   \n",
       "1             ND                ND                  SI            SI   \n",
       "2             ND                ND                  SI            SI   \n",
       "3             ND                ND                  SI            SI   \n",
       "4             ND                ND                  SI            SI   \n",
       "\n",
       "   CUMPLE_CON_TOX    GRUPO  \n",
       "0              SI  LENTICO  \n",
       "1              SI  COSTERO  \n",
       "2              SI  COSTERO  \n",
       "3              SI  COSTERO  \n",
       "4              SI  COSTERO  \n",
       "\n",
       "[5 rows x 51 columns]"
      ]
     },
     "execution_count": 25,
     "metadata": {},
     "output_type": "execute_result"
    }
   ],
   "source": [
    "data = pd.read_csv(\"data/Datos_de_calidad_del_agua_de_sitios_de_monitoreo_de_aguas_superficiales_2020_limpio.csv\", index_col=0)\n",
    "data.head()"
   ]
  },
  {
   "cell_type": "markdown",
   "metadata": {},
   "source": [
    "### Selecciona tus variables independientes X y dependiente Y (semáforo)"
   ]
  },
  {
   "cell_type": "code",
   "execution_count": 26,
   "metadata": {},
   "outputs": [],
   "source": [
    "y = data[\"SEMAFORO\"]\n",
    "X = data.drop(columns=[\"SEMAFORO\"])"
   ]
  },
  {
   "cell_type": "code",
   "execution_count": 27,
   "metadata": {},
   "outputs": [],
   "source": [
    "X = X.select_dtypes([\"float64\"])"
   ]
  },
  {
   "cell_type": "markdown",
   "metadata": {},
   "source": [
    "Cambia a label encoding el semáforo, ej, de [\"clase 1\", \"clase 2\", \"clase 3\"] a [ 1,2,3]"
   ]
  },
  {
   "cell_type": "code",
   "execution_count": 37,
   "metadata": {},
   "outputs": [
    {
     "data": {
      "text/plain": [
       "array([1, 2, 0], dtype=int64)"
      ]
     },
     "execution_count": 37,
     "metadata": {},
     "output_type": "execute_result"
    }
   ],
   "source": [
    "colores_semaforo = {'Amarillo': 0, 'Rojo': 1, 'Verde': 2}\n",
    "y.unique() # Desde la limpieza se convritió a variable categórica"
   ]
  },
  {
   "cell_type": "markdown",
   "metadata": {},
   "source": [
    "Realiza un análisis general de las features importances a traves de decision trees o random forest."
   ]
  },
  {
   "cell_type": "code",
   "execution_count": 29,
   "metadata": {},
   "outputs": [
    {
     "data": {
      "image/png": "[encoded data removed]",
      "text/plain": [
       "<Figure size 432x288 with 1 Axes>"
      ]
     },
     "metadata": {
      "needs_background": "light"
     },
     "output_type": "display_data"
    }
   ],
   "source": [
    "modelo_DT = DecisionTreeClassifier()\n",
    "clf = modelo_DT.fit(X, y)\n",
    "\n",
    "plt.barh(X.columns, width = clf.feature_importances_);"
   ]
  },
  {
   "cell_type": "code",
   "execution_count": 30,
   "metadata": {},
   "outputs": [
    {
     "data": {
      "image/png": "[encoded data removed]",
      "text/plain": [
       "<Figure size 432x288 with 1 Axes>"
      ]
     },
     "metadata": {
      "needs_background": "light"
     },
     "output_type": "display_data"
    }
   ],
   "source": [
    "modelo_RF = RandomForestClassifier()\n",
    "clf = modelo_RF.fit(X, y)\n",
    "\n",
    "plt.barh(X.columns, width = clf.feature_importances_);"
   ]
  },
  {
   "cell_type": "markdown",
   "metadata": {},
   "source": [
    "Selecciona las variables de mayor importancia"
   ]
  },
  {
   "cell_type": "code",
   "execution_count": 31,
   "metadata": {},
   "outputs": [],
   "source": [
    "## TODO"
   ]
  },
  {
   "cell_type": "markdown",
   "metadata": {},
   "source": [
    "Realiza tu clasificador, recuerda dividir los datos de manera balanceada (auxiliate de train test split)"
   ]
  },
  {
   "cell_type": "code",
   "execution_count": 32,
   "metadata": {},
   "outputs": [],
   "source": [
    "X_train, X_test, y_train, y_test = train_test_split(X, y, test_size=0.2, random_state=45, stratify=y)\n"
   ]
  },
  {
   "cell_type": "markdown",
   "metadata": {},
   "source": [
    "Explora que clasificador es el más optimo.\n",
    "\n",
    "Determina el grado de exactitud a través del reporte de clasificación y análisis de la gráfica de Precision Recall."
   ]
  },
  {
   "cell_type": "code",
   "execution_count": 41,
   "metadata": {},
   "outputs": [
    {
     "name": "stdout",
     "output_type": "stream",
     "text": [
      "              precision    recall  f1-score   support\n",
      "\n",
      "    Amarillo       1.00      0.99      1.00       227\n",
      "        Rojo       1.00      1.00      1.00       218\n",
      "       Verde       0.99      1.00      0.99       254\n",
      "\n",
      "    accuracy                           1.00       699\n",
      "   macro avg       1.00      1.00      1.00       699\n",
      "weighted avg       1.00      1.00      1.00       699\n",
      "\n"
     ]
    },
    {
     "ename": "ValueError",
     "evalue": "Expected 'estimator' to be a binary classifier, but got DecisionTreeClassifier fit on multiclass (3 classes) data",
     "output_type": "error",
     "traceback": [
      "\u001b[1;31m---------------------------------------------------------------------------\u001b[0m",
      "\u001b[1;31mValueError\u001b[0m                                Traceback (most recent call last)",
      "\u001b[1;32m~\\AppData\\Local\\Temp/ipykernel_20076/175252673.py\u001b[0m in \u001b[0;36m<module>\u001b[1;34m\u001b[0m\n\u001b[0;32m      8\u001b[0m \u001b[1;31m### Must read this to avid error: https://scikit-learn.org/stable/auto_examples/model_selection/plot_precision_recall.html#the-average-precision-score-in-multi-label-settings\u001b[0m\u001b[1;33m\u001b[0m\u001b[1;33m\u001b[0m\u001b[1;33m\u001b[0m\u001b[0m\n\u001b[0;32m      9\u001b[0m \u001b[1;33m\u001b[0m\u001b[0m\n\u001b[1;32m---> 10\u001b[1;33m \u001b[0mdisplay\u001b[0m \u001b[1;33m=\u001b[0m \u001b[0mPrecisionRecallDisplay\u001b[0m\u001b[1;33m.\u001b[0m\u001b[0mfrom_estimator\u001b[0m\u001b[1;33m(\u001b[0m\u001b[0mmodelo_DT\u001b[0m\u001b[1;33m,\u001b[0m \u001b[0mX_test\u001b[0m\u001b[1;33m,\u001b[0m \u001b[0my_test\u001b[0m\u001b[1;33m,\u001b[0m \u001b[0mname\u001b[0m\u001b[1;33m=\u001b[0m\u001b[1;34m\"Decision Tree\"\u001b[0m\u001b[1;33m)\u001b[0m\u001b[1;33m\u001b[0m\u001b[1;33m\u001b[0m\u001b[0m\n\u001b[0m\u001b[0;32m     11\u001b[0m \u001b[0m_\u001b[0m \u001b[1;33m=\u001b[0m \u001b[0mdisplay\u001b[0m\u001b[1;33m.\u001b[0m\u001b[0max_\u001b[0m\u001b[1;33m.\u001b[0m\u001b[0mset_title\u001b[0m\u001b[1;33m(\u001b[0m\u001b[1;34m\"2-class Precision-Recall curve\"\u001b[0m\u001b[1;33m)\u001b[0m\u001b[1;33m\u001b[0m\u001b[1;33m\u001b[0m\u001b[0m\n",
      "\u001b[1;32m~\\AppData\\Roaming\\Python\\Python39\\site-packages\\sklearn\\metrics\\_plot\\precision_recall_curve.py\u001b[0m in \u001b[0;36mfrom_estimator\u001b[1;34m(cls, estimator, X, y, sample_weight, pos_label, response_method, name, ax, **kwargs)\u001b[0m\n\u001b[0;32m    272\u001b[0m         \u001b[1;32mif\u001b[0m \u001b[1;32mnot\u001b[0m \u001b[0mis_classifier\u001b[0m\u001b[1;33m(\u001b[0m\u001b[0mestimator\u001b[0m\u001b[1;33m)\u001b[0m\u001b[1;33m:\u001b[0m\u001b[1;33m\u001b[0m\u001b[1;33m\u001b[0m\u001b[0m\n\u001b[0;32m    273\u001b[0m             \u001b[1;32mraise\u001b[0m \u001b[0mValueError\u001b[0m\u001b[1;33m(\u001b[0m\u001b[1;34mf\"{method_name} only supports classifiers\"\u001b[0m\u001b[1;33m)\u001b[0m\u001b[1;33m\u001b[0m\u001b[1;33m\u001b[0m\u001b[0m\n\u001b[1;32m--> 274\u001b[1;33m         y_pred, pos_label = _get_response(\n\u001b[0m\u001b[0;32m    275\u001b[0m             \u001b[0mX\u001b[0m\u001b[1;33m,\u001b[0m\u001b[1;33m\u001b[0m\u001b[1;33m\u001b[0m\u001b[0m\n\u001b[0;32m    276\u001b[0m             \u001b[0mestimator\u001b[0m\u001b[1;33m,\u001b[0m\u001b[1;33m\u001b[0m\u001b[1;33m\u001b[0m\u001b[0m\n",
      "\u001b[1;32m~\\AppData\\Roaming\\Python\\Python39\\site-packages\\sklearn\\metrics\\_plot\\base.py\u001b[0m in \u001b[0;36m_get_response\u001b[1;34m(X, estimator, response_method, pos_label)\u001b[0m\n\u001b[0;32m    106\u001b[0m         \u001b[0my_pred_shape\u001b[0m \u001b[1;33m=\u001b[0m \u001b[0my_pred\u001b[0m\u001b[1;33m.\u001b[0m\u001b[0mshape\u001b[0m\u001b[1;33m[\u001b[0m\u001b[1;36m1\u001b[0m\u001b[1;33m]\u001b[0m\u001b[1;33m\u001b[0m\u001b[1;33m\u001b[0m\u001b[0m\n\u001b[0;32m    107\u001b[0m         \u001b[1;32mif\u001b[0m \u001b[0my_pred_shape\u001b[0m \u001b[1;33m!=\u001b[0m \u001b[1;36m2\u001b[0m\u001b[1;33m:\u001b[0m\u001b[1;33m\u001b[0m\u001b[1;33m\u001b[0m\u001b[0m\n\u001b[1;32m--> 108\u001b[1;33m             raise ValueError(\n\u001b[0m\u001b[0;32m    109\u001b[0m                 \u001b[1;34mf\"{classification_error} fit on multiclass ({y_pred_shape} classes)\"\u001b[0m\u001b[1;33m\u001b[0m\u001b[1;33m\u001b[0m\u001b[0m\n\u001b[0;32m    110\u001b[0m                 \u001b[1;34m\" data\"\u001b[0m\u001b[1;33m\u001b[0m\u001b[1;33m\u001b[0m\u001b[0m\n",
      "\u001b[1;31mValueError\u001b[0m: Expected 'estimator' to be a binary classifier, but got DecisionTreeClassifier fit on multiclass (3 classes) data"
     ]
    }
   ],
   "source": [
    "modelo_DT = DecisionTreeClassifier()\n",
    "clf = modelo_DT.fit(X_train, y_train)\n",
    "\n",
    "y_hat = modelo_DT.predict(X_test)\n",
    "\n",
    "print(classification_report(y_test, y_hat, target_names=colores_semaforo))\n",
    "\n",
    "### Must read this to avid error: https://scikit-learn.org/stable/auto_examples/model_selection/plot_precision_recall.html#the-average-precision-score-in-multi-label-settings\n",
    "\n",
    "display = PrecisionRecallDisplay.from_estimator(modelo_DT, X_test, y_test, name=\"Decision Tree\")\n",
    "_ = display.ax_.set_title(\"2-class Precision-Recall curve\")"
   ]
  },
  {
   "cell_type": "markdown",
   "metadata": {},
   "source": [
    "Visualiza los resultados del modelo o las predicciones a través de una matriz de confusión."
   ]
  },
  {
   "cell_type": "code",
   "execution_count": 54,
   "metadata": {},
   "outputs": [
    {
     "data": {
      "image/png": "[encoded data removed]",
      "text/plain": [
       "<Figure size 432x288 with 2 Axes>"
      ]
     },
     "metadata": {
      "needs_background": "light"
     },
     "output_type": "display_data"
    }
   ],
   "source": [
    "cf_matrix = confusion_matrix(y_test, y_hat)\n",
    "ConfusionMatrixDisplay.from_predictions(y_test, y_hat);"
   ]
  }
 ],
 "metadata": {
  "kernelspec": {
   "display_name": "Python 3.9.6 64-bit",
   "language": "python",
   "name": "python3"
  },
  "language_info": {
   "codemirror_mode": {
    "name": "ipython",
    "version": 3
   },
   "file_extension": ".py",
   "mimetype": "text/x-python",
   "name": "python",
   "nbconvert_exporter": "python",
   "pygments_lexer": "ipython3",
   "version": "3.9.6"
  },
  "orig_nbformat": 4,
  "vscode": {
   "interpreter": {
    "hash": "11938c6bc6919ae2720b4d5011047913343b08a43b18698fd82dedb0d4417594"
   }
  }
 },
 "nbformat": 4,
 "nbformat_minor": 2
}
