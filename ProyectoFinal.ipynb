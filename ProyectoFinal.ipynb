{
 "cells": [
  {
   "cell_type": "markdown",
   "metadata": {},
   "source": [
    "# Proyecto Final"
   ]
  },
  {
   "cell_type": "markdown",
   "metadata": {},
   "source": [
    "### Links iniciales:\n",
    "- Comentarios en Reddit [Kaggle dataset](https://www.kaggle.com/datasets/pavellexyr/the-reddit-climate-change-dataset)\n",
    "- Récord temperaturas mundiales [Kaggle dataset](https://www.kaggle.com/datasets/subhamjain/temperature-of-all-countries-19952020)\n",
    "- Producción de carne mundial [Our World in Data](https://ourworldindata.org/meat-production#global-meat-production)\n",
    "- Población mundial [The World Bank](https://ourworldindata.org/meat-production#global-meat-production)"
   ]
  },
  {
   "cell_type": "code",
   "execution_count": null,
   "metadata": {},
   "outputs": [],
   "source": []
  }
 ],
 "metadata": {
  "language_info": {
   "name": "python"
  },
  "orig_nbformat": 4
 },
 "nbformat": 4,
 "nbformat_minor": 2
}
